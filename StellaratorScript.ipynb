{
 "cells": [
  {
   "cell_type": "markdown",
   "metadata": {},
   "source": [
    "# Auto-optimization - How It *should* work:\n",
    "\n",
    "- Script generates first MCNP input based on starting user parameters:\n",
    "    - Materials\n",
    "    - Required temperature of interface between heat shield and blanket\n",
    "    - \\# of F4 tallies in blanket\n",
    "        - Fatal error if thickness of any tally is a certain thickness or greater\n",
    "\n",
    "- File runs on ROGUE\n",
    "\n",
    "- Output file returns, script searches output for:\n",
    "    - Neutron flux in each blanket cell, *B_F4_\\<n\\>*\n",
    "    - Neutron flux to environment, *E_F4*\n",
    "    - Energy deposition in each blanket cell, *B_F6_\\<n\\>*\n",
    "    - Energy deposition in heat shield, *HS_F6*\n",
    "    - Volume of each blanket cell, *B_V_\\<n\\>*\n",
    "    - Volume of heat shield, *HS_V*\n",
    "    \n",
    "- From these values, calculations are made:\n",
    "    - $\\sigma$, the relevant cross section for blanket material, *B_SIG*. Requires = *B_F6_\\<n\\>*\n",
    "    - ${\\tau}(t)$, the rate of tritium production in each blanket cell. Requires = *B_F4_\\<n\\>*, *B_SIG*, *B_V_\\<n\\>*,\n",
    "    - $T_B$, the temperature of first blanket cell, *B_T*. Requires = *B_F6_1*\n",
    "    \n",
    "- What gets optimized?\n",
    "    - First, blanket thickness\n",
    "    - Second, the outer shield\n",
    "    - OPTIONAL: heat shield thickness\n",
    "    - IF \"*B_F4_\\<last\\>* \" LESS THAN \"*BLANKET_LOWER_FLUX_BOUND* \":\n",
    "        - Decrease blanket thickness\n",
    "    - IF \"*E_F4* \" GREATER THAN ZERO:\n",
    "        - Increase outer shield thickness\n",
    "    - IF $T_B$ GREATER THAN USER-SPECIFIED BLANKET TEMP:\n",
    "        - Increase heat shield thickness"
   ]
  },
  {
   "cell_type": "code",
   "execution_count": 167,
   "metadata": {},
   "outputs": [],
   "source": [
    "import matplotlib.pyplot as plt\n",
    "import numpy as np\n",
    "from mcparse import *"
   ]
  },
  {
   "cell_type": "code",
   "execution_count": 40,
   "metadata": {},
   "outputs": [],
   "source": [
    "class Material:\n",
    "    \n",
    "    def __init__(self, name, mass_density, atomic_weight, mat_card_num, \n",
    "                 Cv=None, LiFrac=None, Li6_E=4.85):\n",
    "        \n",
    "        self.name = name\n",
    "        self.mass_density = mass_density\n",
    "        self.atomic_weight = atomic_weight\n",
    "        self.Cv = Cv\n",
    "        self.fLi = LiFrac\n",
    "        self.enrichment = Li6_E # Li-6 enrichment\n",
    "        self.numden = self.mass_density * 6.022*10**23 / self.atomic_weight\n",
    "        \n",
    "        master_material_cards = { \"Li2TiO3\" : f\"m{mat_card_num}\\n     \"\n",
    "                                            + f\"3006.80c {round(LiFrac*Li6_E, 4)}\\n     \"     \n",
    "                                            + f\"3007.80c {round(LiFrac*(1-Li6_E), 4)}\\n     \"     \n",
    "                                            +  \"22048.80c 0.1666\\n     \"     \n",
    "                                            +  \"8016.80c 0.5000\\n\",\n",
    "                                  \"BeO\"     : f\"m{mat_card_num}\\n     \"\n",
    "                                            +  \"4009.80c 0.5\\n     \"\n",
    "                                            +  \"8016.80c 0.5\\n\",\n",
    "                                  \"Li4SiO4\" : f\"m{mat_card_num}       \"}\n",
    "        \n",
    "        # Create material card\n",
    "        if self.name in master_material_cards:\n",
    "            self.mcard = master_material_cards[self.name]\n",
    "        else:\n",
    "            print(f\"Unknown material: {self.name}. Create new material card.\")\n",
    "            \n",
    "def sig(isotope, energy):\n",
    "    \n",
    "    '''Reads ENDF file for isotope\n",
    "       and relevant cross section'''\n",
    "    \n",
    "    libraries = {\"Li6\"     : r\"C:\\Users\\tanhe\\Desktop\\NSE 474\\ENDF_Li6_n,alpha.txt\",\n",
    "                 \"Isotope\" : r\"path\\to\\xsec\\file\"}\n",
    "    \n",
    "    if isotope in libraries:\n",
    "        \n",
    "        with open(libraries[isotope], \"r\") as f:\n",
    "            data = f.readlines()[11:]\n",
    "            \n",
    "            # Separate Energy vs. Barns:\n",
    "            energy_values = []\n",
    "            barns  = []\n",
    "            \n",
    "            for line in data:\n",
    "                energy_values.append(eval([x for x in data[data.index(line)].split(\" \") if x][0]))\n",
    "                barns.append(eval([x for x in data[data.index(line)].split(\" \") if x][1]))\n",
    "            \n",
    "            # Calculate relevant cross section for our system\n",
    "            # Assumes LINEAR interpolation!\n",
    "            xsec = np.interp(energy, energy_values, barns)\n",
    "            \n",
    "        return xsec\n",
    "    \n",
    "    else:\n",
    "        raise Exception(\"Invalid molecule.\")\n",
    "    \n",
    "    return\n",
    "\n",
    "def TCalc(N_iso, flux, sig, volume, endtime):\n",
    "    \n",
    "    '''Calculates total # of tritium\n",
    "       atoms produced up to some time \"t\" '''\n",
    "    \n",
    "    t = np.linspace(0,endtime,10000)\n",
    "    T3_tot = N_iso*(1 - np.exp(-flux*sig*volume*t))\n",
    "    \n",
    "    return T3_tot"
   ]
  },
  {
   "cell_type": "markdown",
   "metadata": {},
   "source": [
    "# Material database"
   ]
  },
  {
   "cell_type": "code",
   "execution_count": 42,
   "metadata": {},
   "outputs": [
    {
     "name": "stdout",
     "output_type": "stream",
     "text": [
      "Unknown material: Li2ZrO3. Create new material card.\n",
      "Unknown material: FLiBe. Create new material card.\n"
     ]
    }
   ],
   "source": [
    "#                     NAME    MASS DENSITY,  ATOMIC WEIGHT   M CARD NUMBER  HEAT CAPACITY  Li FRAC     Li6 ENRICHMENT\n",
    "Li2TiO3 = Material(\"Li2TiO3\",     3.43,         109.76,            1,          Cv=None,  LiFrac=0.3334,   Li6_E=0.0485)\n",
    "Li4SiO4 = Material(\"Li4SiO4\",     2.221,        119.84,            2,          Cv=None,  LiFrac=0.4444,   Li6_E=0.0485)\n",
    "Li2ZrO3 = Material(\"Li2ZrO3\",     4.21,         153.1,             3,          Cv=None,  LiFrac=0.4,      Li6_E=0.0485)\n",
    "FLiBe   = Material(\"FLiBe\",       1.91,          34.95,            4,          Cv=None,  LiFrac=0.3334,   Li6_E=0.0485)"
   ]
  },
  {
   "cell_type": "markdown",
   "metadata": {},
   "source": [
    "# Input deck optimization"
   ]
  },
  {
   "cell_type": "code",
   "execution_count": null,
   "metadata": {},
   "outputs": [],
   "source": [
    "def createInput(heatshield_material=None, blanket_material=None, outershield_material=None):\n",
    "    return\n",
    "\n",
    "    # Create new input\n",
    "\n",
    "def readOutP(output)"
   ]
  }
 ],
 "metadata": {
  "kernelspec": {
   "display_name": "Python 3",
   "language": "python",
   "name": "python3"
  },
  "language_info": {
   "codemirror_mode": {
    "name": "ipython",
    "version": 3
   },
   "file_extension": ".py",
   "mimetype": "text/x-python",
   "name": "python",
   "nbconvert_exporter": "python",
   "pygments_lexer": "ipython3",
   "version": "3.8.5"
  }
 },
 "nbformat": 4,
 "nbformat_minor": 4
}
